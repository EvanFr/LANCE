{
  "cells": [
    {
      "cell_type": "markdown",
      "metadata": {},
      "source": [
        "## Revealing the True Indicators: Understanding and Improving IoC Extraction From Threat Reports"
      ]
    },
    {
      "cell_type": "markdown",
      "metadata": {},
      "source": [
        "This notebook demonstrates an example run of the artifacts of the paper in GoogleColab usng T4 GPUs.\n",
        "\n",
        "### Instructions:\n",
        "1. Run first cell that clones the github repository.\n",
        "2. Follow instructions in README for adding large files from OneDrive\n",
        "3. Run cells one by one while following each claim's instructions in claimX/claim.txt\n",
        "4. Compare output to claim/expected\n",
        "\n",
        "### Notes:\n",
        "- Claim 2 should be run locally if you want to have access to the local hosted UI\n"
      ]
    },
    {
      "cell_type": "code",
      "execution_count": null,
      "metadata": {
        "colab": {
          "base_uri": "https://localhost:8080/"
        },
        "id": "Hvly7Nini5uY",
        "outputId": "1385fe16-8f58-4fc7-f2bb-43d10c806b01"
      },
      "outputs": [
        {
          "name": "stdout",
          "output_type": "stream",
          "text": [
            "Cloning into 'LANCE'...\n",
            "remote: Enumerating objects: 153, done.\u001b[K\n",
            "remote: Counting objects: 100% (86/86), done.\u001b[K\n",
            "remote: Compressing objects: 100% (52/52), done.\u001b[K\n",
            "remote: Total 153 (delta 44), reused 71 (delta 31), pack-reused 67 (from 1)\u001b[K\n",
            "Receiving objects: 100% (153/153), 86.31 KiB | 12.33 MiB/s, done.\n",
            "Resolving deltas: 100% (46/46), done.\n",
            "Downloading artifact/500.tgz (959 MB)\n",
            "fatal: could not read Username for 'https://github.com': No such device or address\n",
            "Error downloading object: artifact/500.tgz (e5cadde): Smudge error: Error downloading artifact/500.tgz (e5caddea5e8005d77e39b51f308f42a834273a157fa0a8bbbc2372956aef44e7): batch response: Git credentials for https://github.com/EvanFr/LANCE.git not found.\n",
            "\n",
            "Errors logged to /content/LANCE/.git/lfs/logs/20250912T214252.437789092.log\n",
            "Use `git lfs logs last` to view the log.\n",
            "error: external filter 'git-lfs filter-process' failed\n",
            "fatal: artifact/500.tgz: smudge filter lfs failed\n",
            "warning: Clone succeeded, but checkout failed.\n",
            "You can inspect what was checked out with 'git status'\n",
            "and retry with 'git restore --source=HEAD :/'\n",
            "\n"
          ]
        }
      ],
      "source": [
        "!git clone https://github.com/EvanFr/LANCE.git"
      ]
    },
    {
      "cell_type": "code",
      "execution_count": 2,
      "metadata": {
        "id": "skEhZfXcjMgj"
      },
      "outputs": [],
      "source": [
        "!pip install -q condacolab"
      ]
    },
    {
      "cell_type": "code",
      "execution_count": 3,
      "metadata": {
        "colab": {
          "base_uri": "https://localhost:8080/"
        },
        "id": "tGZR2VsEjbkf",
        "outputId": "f87c27f2-d1c3-471f-fcca-f8df3a6d8dee"
      },
      "outputs": [
        {
          "name": "stdout",
          "output_type": "stream",
          "text": [
            "⏬ Downloading https://github.com/jaimergp/miniforge/releases/download/24.11.2-1_colab/Miniforge3-colab-24.11.2-1_colab-Linux-x86_64.sh...\n",
            "📦 Installing...\n",
            "📌 Adjusting configuration...\n",
            "🩹 Patching environment...\n",
            "⏲ Done in 0:00:11\n",
            "🔁 Restarting kernel...\n"
          ]
        }
      ],
      "source": [
        "import condacolab\n",
        "condacolab.install()"
      ]
    },
    {
      "cell_type": "code",
      "execution_count": 4,
      "metadata": {
        "colab": {
          "base_uri": "https://localhost:8080/"
        },
        "id": "AXlPmeu4jfJs",
        "outputId": "b9a1f716-c87a-49c8-855e-5e725bca1c40"
      },
      "outputs": [
        {
          "name": "stdout",
          "output_type": "stream",
          "text": [
            "conda 24.11.2\n"
          ]
        }
      ],
      "source": [
        "!conda --version\n"
      ]
    },
    {
      "cell_type": "code",
      "execution_count": 1,
      "metadata": {
        "colab": {
          "base_uri": "https://localhost:8080/"
        },
        "id": "Nm4goe2Xjg5R",
        "outputId": "c08b2c6e-7f91-468b-b8f0-6cefc2d176c3"
      },
      "outputs": [
        {
          "name": "stdout",
          "output_type": "stream",
          "text": [
            "/content/LANCE\n"
          ]
        }
      ],
      "source": [
        "%cd LANCE/"
      ]
    },
    {
      "cell_type": "code",
      "execution_count": null,
      "metadata": {
        "colab": {
          "base_uri": "https://localhost:8080/"
        },
        "id": "PTrnT8iolbgN",
        "outputId": "beeb0813-ad04-4f87-83c5-85e1e75eee54"
      },
      "outputs": [],
      "source": [
        "!bash install.sh"
      ]
    },
    {
      "cell_type": "code",
      "execution_count": 4,
      "metadata": {
        "colab": {
          "base_uri": "https://localhost:8080/"
        },
        "id": "49JSIU2Rlcol",
        "outputId": "9756fe2a-93d0-4313-f3b4-7e67a59a1a6a"
      },
      "outputs": [
        {
          "name": "stdout",
          "output_type": "stream",
          "text": [
            "\n",
            "# conda environments:\n",
            "#\n",
            "base                   /usr/local\n",
            "Gemini                 /usr/local/envs/Gemini\n",
            "IoC_Miner              /usr/local/envs/IoC_Miner\n",
            "LANCE-Gemma            /usr/local/envs/LANCE-Gemma\n",
            "LANCE_GPT              /usr/local/envs/LANCE_GPT\n",
            "UI_env                 /usr/local/envs/UI_env\n",
            "open_LLMs              /usr/local/envs/open_LLMs\n",
            "\n"
          ]
        }
      ],
      "source": [
        "!conda info --envs"
      ]
    },
    {
      "cell_type": "code",
      "execution_count": 5,
      "metadata": {
        "colab": {
          "base_uri": "https://localhost:8080/"
        },
        "id": "HayzWhOeoX7b",
        "outputId": "3714ed5e-fe5b-45dc-b20f-7ac6eec541e3"
      },
      "outputs": [
        {
          "name": "stdout",
          "output_type": "stream",
          "text": [
            "/content/LANCE/claims/claim1\n"
          ]
        }
      ],
      "source": [
        "%cd claims/claim1"
      ]
    },
    {
      "cell_type": "code",
      "execution_count": 6,
      "metadata": {
        "colab": {
          "base_uri": "https://localhost:8080/"
        },
        "id": "FYgh9OdUDnuW",
        "outputId": "287be6c2-ab44-473f-8eb1-640a6385d29c"
      },
      "outputs": [
        {
          "name": "stdout",
          "output_type": "stream",
          "text": [
            "BAP Stats:\n",
            "url:\tIoC = 156,\tnonIoC = 63\n",
            "fqdn:\tIoC = 176,\tnonIoC = 113\n",
            "hash:\tIoC = 309,\tnonIoC = 1\n",
            "ip4:\tIoC = 97,\tnonIoC = 0\n",
            "cve:\tIoC = 11,\tnonIoC = 0\n",
            "Total:\tIoC = 749,\tnonIoC = 177\n",
            "=====================================================\n",
            "GAP Stats:\n",
            "url:\tIoC = 100,\tnonIoC = 47\n",
            "fqdn:\tIoC = 105,\tnonIoC = 143\n",
            "hash:\tIoC = 400,\tnonIoC = 3\n",
            "ip4:\tIoC = 58,\tnonIoC = 3\n",
            "cve:\tIoC = 6,\tnonIoC = 0\n",
            "Total:\tIoC = 669,\tnonIoC = 196\n",
            "=====================================================\n",
            "Overall Stats:\n",
            "url:\tIoC = 256,\tnonIoC = 110\n",
            "fqdn:\tIoC = 281,\tnonIoC = 256\n",
            "hash:\tIoC = 709,\tnonIoC = 4\n",
            "ip4:\tIoC = 155,\tnonIoC = 3\n",
            "cve:\tIoC = 17,\tnonIoC = 0\n",
            "Total:\tIoC = 1418,\tnonIoC = 373\n"
          ]
        }
      ],
      "source": [
        "!./run.sh"
      ]
    },
    {
      "cell_type": "code",
      "execution_count": 30,
      "metadata": {
        "colab": {
          "base_uri": "https://localhost:8080/"
        },
        "id": "7SCaxRJpoo9F",
        "outputId": "0cc7dd56-5cdf-4a3b-a5fd-1b9a728036c2"
      },
      "outputs": [
        {
          "name": "stdout",
          "output_type": "stream",
          "text": [
            "/content/LANCE/claims/claim2\n"
          ]
        }
      ],
      "source": [
        "%cd ../claim2/"
      ]
    },
    {
      "cell_type": "code",
      "execution_count": 31,
      "metadata": {
        "colab": {
          "base_uri": "https://localhost:8080/"
        },
        "id": "lQdMXoYpDtas",
        "outputId": "a9e1bca7-092c-4b22-cb34-1d92f2038ca7"
      },
      "outputs": [
        {
          "name": "stdout",
          "output_type": "stream",
          "text": [
            " * Serving Flask app 'app'\n",
            " * Debug mode: on\n",
            "\u001b[31m\u001b[1mWARNING: This is a development server. Do not use it in a production deployment. Use a production WSGI server instead.\u001b[0m\n",
            " * Running on http://127.0.0.1:5000\n",
            "\u001b[33mPress CTRL+C to quit\u001b[0m\n",
            " * Restarting with stat\n",
            " * Debugger is active!\n",
            " * Debugger PIN: 815-809-598\n"
          ]
        }
      ],
      "source": [
        "!./run.sh"
      ]
    },
    {
      "cell_type": "code",
      "execution_count": 12,
      "metadata": {
        "colab": {
          "base_uri": "https://localhost:8080/"
        },
        "id": "br_9FEMpo5ED",
        "outputId": "6615cfac-95b7-48ae-f540-ec6b47acb052"
      },
      "outputs": [
        {
          "name": "stdout",
          "output_type": "stream",
          "text": [
            "/content/LANCE/claims/claim3\n"
          ]
        }
      ],
      "source": [
        "%cd ../claims/claim3/"
      ]
    },
    {
      "cell_type": "code",
      "execution_count": 13,
      "metadata": {
        "colab": {
          "base_uri": "https://localhost:8080/"
        },
        "id": "LAbuSNt9FWHK",
        "outputId": "d8e2c6e5-78c6-4fa6-d763-5de7728ac110"
      },
      "outputs": [
        {
          "name": "stdout",
          "output_type": "stream",
          "text": [
            "Analyst1:\tBAP Avg: 426.60, \tGAP Avg: 252.40\n",
            "Analyst5:\tBAP Avg: 250.50, \tGAP Avg: 134.20\n",
            "Analyst2:\tBAP Avg: 243.00, \tGAP Avg: 111.80\n",
            "Analyst4:\tBAP Avg: 95.90, \tGAP Avg: 59.00\n",
            "Analyst3:\tBAP Avg: 195.90, \tGAP Avg: 131.60\n",
            "Overall:\tBAP Avg: 242.38,\tGAP Avg: 137.80\n",
            "Senior Analyst: BAP Avg: 712.60,\tGAP Avg: 451.00\n"
          ]
        }
      ],
      "source": [
        "!./run.sh"
      ]
    },
    {
      "cell_type": "code",
      "execution_count": 15,
      "metadata": {
        "colab": {
          "base_uri": "https://localhost:8080/"
        },
        "id": "BH0IrbIDA-PV",
        "outputId": "16e412af-241d-460f-9e74-3f218285d83c"
      },
      "outputs": [
        {
          "name": "stdout",
          "output_type": "stream",
          "text": [
            "/content/LANCE/claims/claim4\n"
          ]
        }
      ],
      "source": [
        "%cd ../claim4/"
      ]
    },
    {
      "cell_type": "code",
      "execution_count": 16,
      "metadata": {
        "colab": {
          "base_uri": "https://localhost:8080/"
        },
        "id": "PQvi-CpcBDdB",
        "outputId": "d87d6eb9-2674-48a8-984e-295e3ea60509"
      },
      "outputs": [
        {
          "name": "stdout",
          "output_type": "stream",
          "text": [
            "================== BAP Results =================\n",
            "Analysts Results:\n",
            "Indicator Type\t\t\tPrecision\tRecall\tF1-Score\n",
            "--------------------------------------------------------------------\n",
            "url                           \t0.9632\t0.9231\t0.9427\n",
            "fqdn                          \t0.9064\t0.9631\t0.9339\n",
            "hash                          \t0.9984\t0.9984\t0.9984\n",
            "ip4                           \t1.0000\t1.0000\t1.0000\n",
            "cve                           \t1.0000\t0.9545\t0.9767\n",
            "--------------------------------------------------------------------\n",
            "Overall                       \t0.9688\t0.9740\t0.9714\n",
            "~~~~~~~~~~~~~~~~~~~~~~~~~~~~~~~~~~~~~~~~~~~~~~~~~~~~~~~~~~~~~~~~~~~~~\n",
            "LANCE-GPT Results:\n",
            "Indicator Type\t\t\tPrecision\tRecall\tF1-Score\n",
            "--------------------------------------------------------------------\n",
            "url                           \t0.9686\t0.9872\t0.9778\n",
            "fqdn                          \t0.9595\t0.9432\t0.9513\n",
            "hash                          \t0.9968\t1.0000\t0.9984\n",
            "ip4                           \t1.0000\t0.9485\t0.9735\n",
            "cve                           \t1.0000\t1.0000\t1.0000\n",
            "--------------------------------------------------------------------\n",
            "Overall                       \t0.9826\t0.9773\t0.9799\n",
            "\n",
            "\n",
            "================== GAP Results =================\n",
            "Analysts Results:\n",
            "Indicator Type\t\t\tPrecision\tRecall\tF1-Score\n",
            "--------------------------------------------------------------------\n",
            "url                           \t0.9852\t1.0000\t0.9926\n",
            "fqdn                          \t0.7782\t0.9857\t0.8697\n",
            "hash                          \t0.9987\t0.9912\t0.9950\n",
            "ip4                           \t1.0000\t1.0000\t1.0000\n",
            "cve                           \t1.0000\t1.0000\t1.0000\n",
            "--------------------------------------------------------------------\n",
            "Overall                       \t0.9547\t0.9925\t0.9733\n",
            "~~~~~~~~~~~~~~~~~~~~~~~~~~~~~~~~~~~~~~~~~~~~~~~~~~~~~~~~~~~~~~~~~~~~~\n",
            "LANCE-GPT Results:\n",
            "Indicator Type\t\t\tPrecision\tRecall\tF1-Score\n",
            "--------------------------------------------------------------------\n",
            "url                           \t0.9709\t1.0000\t0.9852\n",
            "fqdn                          \t0.7710\t0.9619\t0.8559\n",
            "hash                          \t0.9950\t1.0000\t0.9975\n",
            "ip4                           \t1.0000\t1.0000\t1.0000\n",
            "cve                           \t1.0000\t1.0000\t1.0000\n",
            "--------------------------------------------------------------------\n",
            "Overall                       \t0.9500\t0.9940\t0.9715\n"
          ]
        }
      ],
      "source": [
        "!./run.sh"
      ]
    },
    {
      "cell_type": "code",
      "execution_count": 17,
      "metadata": {
        "colab": {
          "base_uri": "https://localhost:8080/"
        },
        "id": "10PAsR8jBGP6",
        "outputId": "a4eb3e08-b23e-46c0-863c-a250b0970dc9"
      },
      "outputs": [
        {
          "name": "stdout",
          "output_type": "stream",
          "text": [
            "/content/LANCE/claims/claim5\n"
          ]
        }
      ],
      "source": [
        "%cd ../claim5/"
      ]
    },
    {
      "cell_type": "code",
      "execution_count": 18,
      "metadata": {
        "colab": {
          "base_uri": "https://localhost:8080/"
        },
        "id": "KAid_UWNBK2v",
        "outputId": "8bd0679e-d0e2-4b1b-88dd-fc3e0679c054"
      },
      "outputs": [
        {
          "name": "stdout",
          "output_type": "stream",
          "text": [
            "Please replace 'your_api_key_here' with your actual OpenAI API key in run.sh\n"
          ]
        }
      ],
      "source": [
        "!./run.sh"
      ]
    },
    {
      "cell_type": "code",
      "execution_count": 19,
      "metadata": {
        "colab": {
          "base_uri": "https://localhost:8080/"
        },
        "id": "3ifPleVqBOz2",
        "outputId": "c333dcdf-f00e-4a14-a7b1-90cf5412c66a"
      },
      "outputs": [
        {
          "name": "stdout",
          "output_type": "stream",
          "text": [
            "/content/LANCE/claims/claim6\n"
          ]
        }
      ],
      "source": [
        "%cd ../claim6/"
      ]
    },
    {
      "cell_type": "code",
      "execution_count": null,
      "metadata": {
        "colab": {
          "base_uri": "https://localhost:8080/"
        },
        "collapsed": true,
        "id": "_RDhbHMSBSDC",
        "outputId": "31b3507e-7b5f-467e-a7f9-a69a9dff09a7"
      },
      "outputs": [],
      "source": [
        "!./run.sh"
      ]
    },
    {
      "cell_type": "code",
      "execution_count": 21,
      "metadata": {
        "colab": {
          "base_uri": "https://localhost:8080/"
        },
        "id": "w1GMkNWPBTq0",
        "outputId": "4fdaccd7-cfa9-4c8e-f78f-15aac4d83e89"
      },
      "outputs": [
        {
          "name": "stdout",
          "output_type": "stream",
          "text": [
            "/content/LANCE/claims/claim7\n"
          ]
        }
      ],
      "source": [
        "%cd ../claim7/"
      ]
    },
    {
      "cell_type": "code",
      "execution_count": 22,
      "metadata": {
        "colab": {
          "base_uri": "https://localhost:8080/"
        },
        "id": "hlvURa3fBeuS",
        "outputId": "05acfa53-eabb-4899-937e-65c2c7bdf7cb"
      },
      "outputs": [
        {
          "name": "stdout",
          "output_type": "stream",
          "text": [
            "==============================================================\n",
            "AlienVault Results\n",
            "Type\tTP\tFP\tFN\tPrec\tRecall\tF1-Score\n",
            "--------------------------------------------------------------\n",
            "IPv4\t147\t0\t8\t1.0000\t0.9484\t0.9735\n",
            "CVE\t8\t0\t9\t1.0000\t0.4706\t0.6400\n",
            "hash\t684\t0\t25\t1.0000\t0.9647\t0.9821\n",
            "URL\t65\t0\t189\t1.0000\t0.2559\t0.4075\n",
            "fqdn\t207\t9\t74\t0.9583\t0.7367\t0.8330\n",
            "--------------------------------------------------------------\n",
            "Overall\t1111\t9\t305\t0.9920\t0.7846\t0.8762\n",
            "==============================================================\n",
            "VirusTotal (Threshold=1) Results\n",
            "Type\tTP\tFP\tFN\tPrec\tRecall\tF1-Score\n",
            "--------------------------------------------------------------\n",
            "ip4\t144\t1\t11\t0.9931\t0.9290\t0.9600\n",
            "cve\t0\t0\t0\t0.0000\t0.0000\t0.0000\n",
            "hash\t478\t1\t231\t0.9979\t0.6742\t0.8047\n",
            "url\t221\t8\t35\t0.9651\t0.8633\t0.9113\n",
            "fqdn\t270\t57\t11\t0.8257\t0.9609\t0.8882\n",
            "--------------------------------------------------------------\n",
            "Overall\t1113\t67\t288\t0.9432\t0.7944\t0.8625\n",
            "==============================================================\n",
            "VirusTotal (Threshold=5) Results\n",
            "Type\tTP\tFP\tFN\tPrec\tRecall\tF1-Score\n",
            "--------------------------------------------------------------\n",
            "ip4\t78\t0\t77\t1.0000\t0.5032\t0.6695\n",
            "cve\t0\t0\t0\t0.0000\t0.0000\t0.0000\n",
            "hash\t444\t1\t265\t0.9978\t0.6262\t0.7695\n",
            "url\t201\t1\t55\t0.9950\t0.7852\t0.8777\n",
            "fqdn\t205\t25\t76\t0.8913\t0.7295\t0.8023\n",
            "--------------------------------------------------------------\n",
            "Overall\t928\t27\t473\t0.9717\t0.6624\t0.7878\n",
            "==============================================================\n",
            "GoodFATR Results\n",
            "Type\tTP\tFP\tFN\tPrec\tRecall\tF1-Score\n",
            "--------------------------------------------------------------\n",
            "ip4\t155\t2\t0\t0.9873\t1.0000\t0.9936\n",
            "cve\t17\t0\t0\t1.0000\t1.0000\t1.0000\n",
            "hash\t709\t4\t0\t0.9944\t1.0000\t0.9972\n",
            "url\t254\t99\t2\t0.7195\t0.9922\t0.8342\n",
            "fqdn\t281\t256\t0\t0.5233\t1.0000\t0.6870\n",
            "--------------------------------------------------------------\n",
            "Overall\t1416\t361\t2\t0.7968\t0.9986\t0.8864\n",
            "==============================================================\n",
            "Naive GPT Results\n",
            "Type\tTP\tFP\tFN\tPrec\tRecall\tF1-Score\n",
            "--------------------------------------------------------------\n",
            "ip4\t153\t17\t4\t0.9000\t0.9745\t0.9358\n",
            "cve\t17\t11\t0\t0.6071\t1.0000\t0.7556\n",
            "hash\t632\t30\t79\t0.9547\t0.8889\t0.9206\n",
            "url\t163\t298\t326\t0.3536\t0.3333\t0.3432\n",
            "fqdn\t215\t143\t258\t0.6006\t0.4545\t0.5174\n",
            "--------------------------------------------------------------\n",
            "Overall\t1180\t499\t667\t0.7028\t0.6389\t0.6693\n"
          ]
        }
      ],
      "source": [
        "!./run.sh"
      ]
    },
    {
      "cell_type": "code",
      "execution_count": 38,
      "metadata": {
        "colab": {
          "base_uri": "https://localhost:8080/"
        },
        "id": "LiylE5KvBiRx",
        "outputId": "2a7e28a3-37c4-45ed-9d8e-d50d35ad89fc"
      },
      "outputs": [
        {
          "name": "stdout",
          "output_type": "stream",
          "text": [
            "/content/LANCE/claims/claim8\n"
          ]
        }
      ],
      "source": [
        "%cd ../claim8/"
      ]
    },
    {
      "cell_type": "code",
      "execution_count": 39,
      "metadata": {
        "colab": {
          "base_uri": "https://localhost:8080/"
        },
        "id": "nL_SP6u4Bpeh",
        "outputId": "f174fd09-4d15-495b-bcdb-c71902f34551"
      },
      "outputs": [
        {
          "name": "stdout",
          "output_type": "stream",
          "text": [
            "Llama results:\n",
            "Missed indicators: 75\n",
            "Extra indicators: 7\n",
            "Type\tTP\tTN\tFP\tFN\tPrecision\tRecall\tF1-Score\n",
            "url\t55\t38\t22\t101\t0.7143\t\t0.3526\t0.4721\n",
            "fqdn\t138\t81\t29\t38\t0.8263\t\t0.7841\t0.8047\n",
            "ip4\t96\t0\t0\t1\t1.0000\t\t0.9897\t0.9948\n",
            "hash\t266\t0\t0\t43\t1.0000\t\t0.8608\t0.9252\n",
            "cve\t11\t0\t0\t0\t1.0000\t\t1.0000\t1.0000\n",
            "Total\t566\t119\t51\t183\t0.9173\t\t0.7557\t0.8287\n",
            "===================================================\n",
            "Nvidia Llama results:\n",
            "Missed indicators: 13\n",
            "Extra indicators: 7\n",
            "Type\tTP\tTN\tFP\tFN\tPrecision\tRecall\tF1-Score\n",
            "url\t81\t37\t21\t75\t0.7941\t\t0.5192\t0.6279\n",
            "fqdn\t137\t65\t44\t39\t0.7569\t\t0.7784\t0.7675\n",
            "ip4\t66\t0\t0\t31\t1.0000\t\t0.6804\t0.8098\n",
            "hash\t308\t0\t1\t1\t0.9968\t\t0.9968\t0.9968\n",
            "cve\t8\t0\t0\t3\t1.0000\t\t0.7273\t0.8421\n",
            "Total\t600\t102\t66\t149\t0.9009\t\t0.8011\t0.8481\n",
            "===================================================\n",
            "Gemini results:\n",
            "Missed indicators: 3\n",
            "Extra indicators: 0\n",
            "Type\tTP\tTN\tFP\tFN\tPrecision\tRecall\tF1-Score\n",
            "url\t153\t58\t5\t3\t0.9684\t\t0.9808\t0.9745\n",
            "fqdn\t176\t100\t12\t0\t0.9362\t\t1.0000\t0.9670\n",
            "ip4\t95\t0\t0\t2\t1.0000\t\t0.9794\t0.9896\n",
            "hash\t305\t0\t1\t4\t0.9967\t\t0.9871\t0.9919\n",
            "cve\t11\t0\t0\t0\t1.0000\t\t1.0000\t1.0000\n",
            "Total\t740\t158\t18\t9\t0.9763\t\t0.9880\t0.9821\n",
            "===================================================\n",
            "Gemma results:\n",
            "Missed indicators: 86\n",
            "Extra indicators: 0\n",
            "Type\tTP\tTN\tFP\tFN\tPrecision\tRecall\tF1-Score\n",
            "url\t215\t83\t26\t41\t0.8921\t\t0.8398\t0.8652\n",
            "fqdn\t216\t176\t73\t65\t0.7474\t\t0.7687\t0.7579\n",
            "ip4\t148\t1\t1\t7\t0.9933\t\t0.9548\t0.9737\n",
            "hash\t701\t1\t3\t8\t0.9957\t\t0.9887\t0.9922\n",
            "cve\t14\t0\t0\t3\t1.0000\t\t0.8235\t0.9032\n",
            "Total\t1294\t261\t103\t124\t0.9263\t\t0.9126\t0.9194\n"
          ]
        }
      ],
      "source": [
        "!./run.sh"
      ]
    },
    {
      "cell_type": "code",
      "execution_count": 40,
      "metadata": {
        "colab": {
          "base_uri": "https://localhost:8080/"
        },
        "id": "oGQR_kcQFQkO",
        "outputId": "1fd586a5-e76c-4062-8df0-dc49990aea07"
      },
      "outputs": [
        {
          "name": "stdout",
          "output_type": "stream",
          "text": [
            "/content/LANCE/claims/claim9\n"
          ]
        }
      ],
      "source": [
        "%cd ../claim9/"
      ]
    },
    {
      "cell_type": "code",
      "execution_count": 41,
      "metadata": {
        "colab": {
          "base_uri": "https://localhost:8080/"
        },
        "id": "YYwN3i7kFUfC",
        "outputId": "b7339766-8fbd-4ee4-d968-d64cd5619f7f"
      },
      "outputs": [
        {
          "name": "stdout",
          "output_type": "stream",
          "text": [
            "[nltk_data] Downloading package punkt to /root/nltk_data...\n",
            "[nltk_data]   Unzipping tokenizers/punkt.zip.\n",
            "--------------------------------------------------\n",
            "Results when training on LANCE\n",
            "Precision: 0.8367346938775511\n",
            "Recall: 0.8367346938775511\n",
            "F1 Score: 0.8367346938775511\n",
            "--------------------------------------------------\n",
            "Results when training on VirusTotal (th=1)\n",
            "Precision: 0.8120355834641549\n",
            "Recall: 0.7551020408163265\n",
            "F1 Score: 0.7797411647585862\n",
            "--------------------------------------------------\n",
            "Results when training on VirusTotal (th=5)\n",
            "Precision: 0.9037900874635568\n",
            "Recall: 0.5510204081632653\n",
            "F1 Score: 0.619110144057623\n"
          ]
        }
      ],
      "source": [
        "!./run.sh"
      ]
    },
    {
      "cell_type": "code",
      "execution_count": null,
      "metadata": {
        "id": "iv1qlPPsrntm"
      },
      "outputs": [],
      "source": []
    }
  ],
  "metadata": {
    "accelerator": "GPU",
    "colab": {
      "gpuType": "T4",
      "provenance": []
    },
    "kernelspec": {
      "display_name": "Python 3",
      "name": "python3"
    },
    "language_info": {
      "name": "python"
    }
  },
  "nbformat": 4,
  "nbformat_minor": 0
}
